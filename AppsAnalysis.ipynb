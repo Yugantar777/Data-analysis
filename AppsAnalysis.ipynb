{
 "cells": [
  {
   "cell_type": "markdown",
   "metadata": {},
   "source": [
    "# Data Analysis of Android and iOS Apps\n",
    "\n",
    "**Idea of doing the project:**\n",
    "\n",
    "- The project will give information about the different parameters of the applications available on the Google Play Store and Apple Store\n",
    "- The aim is to come out with the types and features of an application that will help the companies to generate more revenues through their applications "
   ]
  },
  {
   "cell_type": "code",
   "execution_count": 12,
   "metadata": {},
   "outputs": [],
   "source": [
    "def explore(dataset,header=True):\n",
    "    opened_file=open(dataset)\n",
    "    from csv import reader\n",
    "    read_file=reader(opened_file)\n",
    "    data=list(read_file)\n",
    "    if header:\n",
    "        return data[1:]\n",
    "    else:\n",
    "        return data\n",
    "    \n",
    "google_data=explore('./my_datasets/googleplaystore.csv',False)\n",
    "ios_data=explore('./my_datasets/AppleStore.csv',False)"
   ]
  },
  {
   "cell_type": "code",
   "execution_count": 38,
   "metadata": {},
   "outputs": [
    {
     "name": "stdout",
     "output_type": "stream",
     "text": [
      "['App', 'Category', 'Rating', 'Reviews', 'Size', 'Installs', 'Type', 'Price', 'Content Rating', 'Genres', 'Last Updated', 'Current Ver', 'Android Ver']\n",
      "\n",
      "\n",
      "['Photo Editor & Candy Camera & Grid & ScrapBook', 'ART_AND_DESIGN', '4.1', '159', '19M', '10,000+', 'Free', '0', 'Everyone', 'Art & Design', 'January 7, 2018', '1.0.0', '4.0.3 and up']\n",
      "\n",
      "\n",
      "['Coloring book moana', 'ART_AND_DESIGN', '3.9', '967', '14M', '500,000+', 'Free', '0', 'Everyone', 'Art & Design;Pretend Play', 'January 15, 2018', '2.0.0', '4.0.3 and up']\n",
      "\n",
      "\n",
      "['U Launcher Lite – FREE Live Cool Themes, Hide Apps', 'ART_AND_DESIGN', '4.7', '87510', '8.7M', '5,000,000+', 'Free', '0', 'Everyone', 'Art & Design', 'August 1, 2018', '1.2.4', '4.0.3 and up']\n",
      "\n",
      "\n",
      "['Sketch - Draw & Paint', 'ART_AND_DESIGN', '4.5', '215644', '25M', '50,000,000+', 'Free', '0', 'Teen', 'Art & Design', 'June 8, 2018', 'Varies with device', '4.2 and up']\n",
      "\n",
      "\n",
      "No. of rows: 10841\n",
      "No. of columns: 13\n",
      "\n",
      "\n",
      "['', 'id', 'track_name', 'size_bytes', 'currency', 'price', 'rating_count_tot', 'rating_count_ver', 'user_rating', 'user_rating_ver', 'ver', 'cont_rating', 'prime_genre', 'sup_devices.num', 'ipadSc_urls.num', 'lang.num', 'vpp_lic']\n",
      "\n",
      "\n",
      "['1', '281656475', 'PAC-MAN Premium', '100788224', 'USD', '3.99', '21292', '26', '4', '4.5', '6.3.5', '4+', 'Games', '38', '5', '10', '1']\n",
      "\n",
      "\n",
      "['2', '281796108', 'Evernote - stay organized', '158578688', 'USD', '0', '161065', '26', '4', '3.5', '8.2.2', '4+', 'Productivity', '37', '5', '23', '1']\n",
      "\n",
      "\n",
      "['3', '281940292', 'WeatherBug - Local Weather, Radar, Maps, Alerts', '100524032', 'USD', '0', '188583', '2822', '3.5', '4.5', '5.0.0', '4+', 'Weather', '37', '5', '3', '1']\n",
      "\n",
      "\n",
      "['4', '282614216', 'eBay: Best App to Buy, Sell, Save! Online Shopping', '128512000', 'USD', '0', '262241', '649', '4', '4.5', '5.10.0', '12+', 'Shopping', '37', '5', '9', '1']\n",
      "\n",
      "\n",
      "No. of rows: 7198\n",
      "No. of columns: 17\n"
     ]
    }
   ],
   "source": [
    "def explore_data(dataset,start,end,rows_and_columns=False):\n",
    "    dataset_slice=dataset[start:end]\n",
    "    for row in dataset_slice:\n",
    "        print(row)\n",
    "        print('\\n')\n",
    "        \n",
    "    if rows_and_columns:\n",
    "        print('No. of rows:',len(dataset))\n",
    "        print('No. of columns:',len(dataset[0]))\n",
    "        \n",
    "explore_data(google_data,0,5,True)\n",
    "print('\\n')\n",
    "explore_data(ios_data,0,5,True)\n",
    "    "
   ]
  },
  {
   "cell_type": "code",
   "execution_count": 15,
   "metadata": {},
   "outputs": [],
   "source": [
    "#deleting wrong row in the dataset due to one missing entry in the row 10473\n",
    "del google_data[10473]\n",
    "#run it only once"
   ]
  },
  {
   "cell_type": "markdown",
   "metadata": {},
   "source": [
    "## Duplicates in Google Play Dataset\n",
    "\n",
    "- Google Play dataset has many duplicates as we shall see\n",
    "- We need to remove the duplicates to clean the dataset"
   ]
  },
  {
   "cell_type": "code",
   "execution_count": 17,
   "metadata": {},
   "outputs": [
    {
     "name": "stdout",
     "output_type": "stream",
     "text": [
      "No. of unique apps: 9659\n",
      "No. of duplicate apps: 1181\n"
     ]
    }
   ],
   "source": [
    "duplicates_list=[]\n",
    "unique_list=[]\n",
    "\n",
    "for row in google_data[1:]:\n",
    "    name=row[0]\n",
    "    if name in unique_list:\n",
    "        duplicates_list.append(name)\n",
    "    else:\n",
    "        unique_list.append(name)\n",
    "        \n",
    "print('No. of unique apps:',len(unique_list))\n",
    "print('No. of duplicate apps:',len(duplicates_list))"
   ]
  },
  {
   "cell_type": "markdown",
   "metadata": {},
   "source": [
    "## Duplicates removal criteria\n",
    "- We will remove the duplicate apps based on the Ratings column in the rows\n",
    "- We will kepp the app with highest rating(because that will be the latest) and remove others"
   ]
  },
  {
   "cell_type": "code",
   "execution_count": 20,
   "metadata": {},
   "outputs": [
    {
     "name": "stdout",
     "output_type": "stream",
     "text": [
      "9659\n"
     ]
    }
   ],
   "source": [
    "reviews_max={}\n",
    "for row in google_data[1:]:\n",
    "    name=row[0]\n",
    "    n_review=float(row[3])\n",
    "    if name in reviews_max:\n",
    "        if n_review > reviews_max[name]:\n",
    "            reviews_max[name]=n_review\n",
    "    if name not in reviews_max:\n",
    "        reviews_max[name]=n_review\n",
    "        \n",
    "print(len(reviews_max))"
   ]
  },
  {
   "cell_type": "code",
   "execution_count": 22,
   "metadata": {},
   "outputs": [
    {
     "name": "stdout",
     "output_type": "stream",
     "text": [
      "9659\n",
      "9659\n"
     ]
    }
   ],
   "source": [
    "android_clean=[]\n",
    "already_added=[]\n",
    "\n",
    "for row in google_data[1:]:\n",
    "    name=row[0]\n",
    "    n_review=float(row[3])\n",
    "    if name not in already_added and n_review == reviews_max[name]:\n",
    "        android_clean.append(row)\n",
    "        already_added.append(name)\n",
    "        \n",
    "print(len(already_added))\n",
    "print(len(android_clean))"
   ]
  },
  {
   "cell_type": "markdown",
   "metadata": {},
   "source": [
    "## Removal of app names that are Non-English\n",
    "\n",
    "- For doing so we first make a function that will identify whether a given string is English or Non-English\n",
    "- For this we will loop over every character in string and check whether the ASCII value is between 0 and 127"
   ]
  },
  {
   "cell_type": "code",
   "execution_count": 39,
   "metadata": {},
   "outputs": [
    {
     "name": "stdout",
     "output_type": "stream",
     "text": [
      "True\n",
      "False\n",
      "True\n",
      "True\n"
     ]
    }
   ],
   "source": [
    "def check_english(string):\n",
    "    count=0\n",
    "    for character in string:\n",
    "        ascii_value=ord(character)\n",
    "        if ascii_value > 127:\n",
    "            count+=1\n",
    "            if count > 3:\n",
    "                return False\n",
    "        \n",
    "    return True\n",
    "\n",
    "print(check_english('Instagram'))\n",
    "print(check_english('爱奇艺PPS -《欢乐颂2》电视剧热播'))\n",
    "print(check_english('Docs To Go™ Free Office Suite'))\n",
    "print(check_english('Instachat 😜'))\n",
    "            "
   ]
  },
  {
   "cell_type": "code",
   "execution_count": 40,
   "metadata": {},
   "outputs": [
    {
     "name": "stdout",
     "output_type": "stream",
     "text": [
      "9614\n",
      "6183\n"
     ]
    }
   ],
   "source": [
    "google_data_clean=[]\n",
    "for row in android_clean:\n",
    "    name=row[0]\n",
    "    if check_english(name):\n",
    "        google_data_clean.append(row)\n",
    "        \n",
    "ios_data_clean=[]\n",
    "for row in ios_data[1:]:\n",
    "    name=row[2]\n",
    "    if check_english(name):\n",
    "        ios_data_clean.append(row)\n",
    "        \n",
    "print(len(google_data_clean))\n",
    "print(len(ios_data_clean))"
   ]
  },
  {
   "cell_type": "markdown",
   "metadata": {},
   "source": [
    "## Removal of Apps that are not free \n",
    "\n",
    "- We will remove the apps that are not free to download and install\n",
    "- As our main source of revenue from these apps is the in-app ads "
   ]
  },
  {
   "cell_type": "code",
   "execution_count": 41,
   "metadata": {},
   "outputs": [
    {
     "name": "stdout",
     "output_type": "stream",
     "text": [
      "8864\n",
      "3222\n"
     ]
    }
   ],
   "source": [
    "google_data_free=[]\n",
    "for row in google_data_clean:\n",
    "    price=row[7]\n",
    "    if price == '0':\n",
    "        google_data_free.append(row)\n",
    "        \n",
    "        \n",
    "ios_data_free=[]\n",
    "for row in ios_data_clean:\n",
    "    price=float(row[5])\n",
    "    if price == 0.0:\n",
    "        ios_data_free.append(row)\n",
    "        \n",
    "print(len(google_data_free))\n",
    "print(len(ios_data_free))\n",
    "    "
   ]
  },
  {
   "cell_type": "markdown",
   "metadata": {},
   "source": [
    "## Strategy for the Analysis\n",
    "\n",
    "- We will make the frequency table for `Genres` in the dataset\n",
    "- We will check which `Genres` are popular in both android and ios stores"
   ]
  },
  {
   "cell_type": "code",
   "execution_count": 100,
   "metadata": {},
   "outputs": [
    {
     "name": "stdout",
     "output_type": "stream",
     "text": [
      "{'ART_AND_DESIGN': 0.6430505415162455, 'AUTO_AND_VEHICLES': 0.9250902527075812, 'BEAUTY': 0.5979241877256317, 'BOOKS_AND_REFERENCE': 2.1435018050541514, 'BUSINESS': 4.591606498194946, 'COMICS': 0.6204873646209386, 'COMMUNICATION': 3.2378158844765346, 'DATING': 1.861462093862816, 'EDUCATION': 1.1620036101083033, 'ENTERTAINMENT': 0.9589350180505415, 'EVENTS': 0.7107400722021661, 'FINANCE': 3.7003610108303246, 'FOOD_AND_DRINK': 1.2409747292418771, 'HEALTH_AND_FITNESS': 3.0798736462093865, 'HOUSE_AND_HOME': 0.8235559566787004, 'LIBRARIES_AND_DEMO': 0.9363718411552346, 'LIFESTYLE': 3.9034296028880866, 'GAME': 9.724729241877256, 'FAMILY': 18.907942238267147, 'MEDICAL': 3.531137184115524, 'SOCIAL': 2.6624548736462095, 'SHOPPING': 2.2450361010830324, 'PHOTOGRAPHY': 2.944494584837545, 'SPORTS': 3.395758122743682, 'TRAVEL_AND_LOCAL': 2.33528880866426, 'TOOLS': 8.461191335740072, 'PERSONALIZATION': 3.3167870036101084, 'PRODUCTIVITY': 3.892148014440433, 'PARENTING': 0.6543321299638989, 'WEATHER': 0.8009927797833934, 'VIDEO_PLAYERS': 1.7937725631768955, 'NEWS_AND_MAGAZINES': 2.7978339350180503, 'MAPS_AND_NAVIGATION': 1.3989169675090252}\n",
      "\n",
      "\n",
      "{'Art & Design': 0.5979241877256317, 'Art & Design;Creativity': 0.06768953068592057, 'Auto & Vehicles': 0.9250902527075812, 'Beauty': 0.5979241877256317, 'Books & Reference': 2.1435018050541514, 'Business': 4.591606498194946, 'Comics': 0.6092057761732852, 'Comics;Creativity': 0.01128158844765343, 'Communication': 3.2378158844765346, 'Dating': 1.861462093862816, 'Education': 5.347472924187725, 'Education;Creativity': 0.04512635379061372, 'Education;Education': 0.33844765342960287, 'Education;Pretend Play': 0.056407942238267145, 'Education;Brain Games': 0.033844765342960284, 'Entertainment': 6.069494584837545, 'Entertainment;Brain Games': 0.078971119133574, 'Entertainment;Creativity': 0.033844765342960284, 'Entertainment;Music & Video': 0.16922382671480143, 'Events': 0.7107400722021661, 'Finance': 3.7003610108303246, 'Food & Drink': 1.2409747292418771, 'Health & Fitness': 3.0798736462093865, 'House & Home': 0.8235559566787004, 'Libraries & Demo': 0.9363718411552346, 'Lifestyle': 3.892148014440433, 'Lifestyle;Pretend Play': 0.01128158844765343, 'Card': 0.45126353790613716, 'Arcade': 1.8501805054151623, 'Puzzle': 1.128158844765343, 'Racing': 0.9927797833935018, 'Sports': 3.463447653429603, 'Casual': 1.7599277978339352, 'Simulation': 2.0419675090252705, 'Adventure': 0.6768953068592057, 'Trivia': 0.41741877256317694, 'Action': 3.1024368231046933, 'Word': 0.2594765342960289, 'Role Playing': 0.9363718411552346, 'Strategy': 0.9138086642599278, 'Board': 0.3835740072202166, 'Music': 0.2030685920577617, 'Action;Action & Adventure': 0.10153429602888085, 'Casual;Brain Games': 0.13537906137184114, 'Educational;Creativity': 0.033844765342960284, 'Puzzle;Brain Games': 0.16922382671480143, 'Educational;Education': 0.39485559566787, 'Casual;Pretend Play': 0.236913357400722, 'Educational;Brain Games': 0.06768953068592057, 'Art & Design;Pretend Play': 0.01128158844765343, 'Educational;Pretend Play': 0.09025270758122744, 'Entertainment;Education': 0.01128158844765343, 'Casual;Education': 0.02256317689530686, 'Casual;Creativity': 0.06768953068592057, 'Casual;Action & Adventure': 0.13537906137184114, 'Music;Music & Video': 0.02256317689530686, 'Arcade;Pretend Play': 0.01128158844765343, 'Adventure;Action & Adventure': 0.033844765342960284, 'Role Playing;Action & Adventure': 0.033844765342960284, 'Simulation;Pretend Play': 0.02256317689530686, 'Puzzle;Creativity': 0.02256317689530686, 'Simulation;Action & Adventure': 0.078971119133574, 'Racing;Action & Adventure': 0.16922382671480143, 'Sports;Action & Adventure': 0.02256317689530686, 'Educational;Action & Adventure': 0.033844765342960284, 'Arcade;Action & Adventure': 0.12409747292418773, 'Entertainment;Action & Adventure': 0.033844765342960284, 'Art & Design;Action & Adventure': 0.01128158844765343, 'Puzzle;Action & Adventure': 0.033844765342960284, 'Education;Action & Adventure': 0.033844765342960284, 'Strategy;Action & Adventure': 0.01128158844765343, 'Music & Audio;Music & Video': 0.01128158844765343, 'Health & Fitness;Education': 0.01128158844765343, 'Board;Action & Adventure': 0.02256317689530686, 'Board;Brain Games': 0.078971119133574, 'Casual;Music & Video': 0.01128158844765343, 'Education;Music & Video': 0.033844765342960284, 'Role Playing;Pretend Play': 0.04512635379061372, 'Entertainment;Pretend Play': 0.02256317689530686, 'Medical': 3.531137184115524, 'Social': 2.6624548736462095, 'Shopping': 2.2450361010830324, 'Photography': 2.944494584837545, 'Travel & Local': 2.3240072202166067, 'Travel & Local;Action & Adventure': 0.01128158844765343, 'Tools': 8.449909747292418, 'Tools;Education': 0.01128158844765343, 'Personalization': 3.3167870036101084, 'Productivity': 3.892148014440433, 'Parenting': 0.4963898916967509, 'Parenting;Music & Video': 0.06768953068592057, 'Parenting;Education': 0.078971119133574, 'Parenting;Brain Games': 0.01128158844765343, 'Weather': 0.8009927797833934, 'Video Players & Editors': 1.7712093862815883, 'Video Players & Editors;Music & Video': 0.02256317689530686, 'Video Players & Editors;Creativity': 0.01128158844765343, 'News & Magazines': 2.7978339350180503, 'Maps & Navigation': 1.3989169675090252, 'Health & Fitness;Action & Adventure': 0.01128158844765343, 'Educational': 0.3722924187725632, 'Casino': 0.42870036101083037, 'Trivia;Education': 0.01128158844765343, 'Lifestyle;Education': 0.01128158844765343, 'Card;Action & Adventure': 0.01128158844765343, 'Books & Reference;Education': 0.01128158844765343, 'Simulation;Education': 0.01128158844765343, 'Puzzle;Education': 0.01128158844765343, 'Adventure;Education': 0.01128158844765343, 'Role Playing;Brain Games': 0.01128158844765343, 'Strategy;Education': 0.01128158844765343, 'Racing;Pretend Play': 0.01128158844765343, 'Communication;Creativity': 0.01128158844765343, 'Strategy;Creativity': 0.01128158844765343}\n",
      "\n",
      "\n",
      "{'Productivity': 2.7171276079573023, 'Weather': 1.1159631246967492, 'Shopping': 1.3747371825974446, 'Reference': 0.8571890667960537, 'Finance': 0.7924955523208799, 'Music': 2.215752870774705, 'Utilities': 3.4449296458030085, 'Travel': 0.9704027171276078, 'Social Networking': 2.037845705967977, 'Sports': 1.6820313763545207, 'Health & Fitness': 2.6686074721009216, 'Games': 54.860100274947435, 'Food & Drink': 0.7116286592269124, 'News': 0.9218825812712276, 'Book': 0.8895358240336406, 'Photo & Video': 5.515122109008572, 'Entertainment': 7.261846999838266, 'Business': 0.8571890667960537, 'Lifestyle': 1.6011644832605532, 'Education': 6.6310852337053205, 'Navigation': 0.452854601326217, 'Medical': 0.3396409509946628, 'Catalogs': 0.08086689309396733}\n"
     ]
    }
   ],
   "source": [
    "# function for creating frequency table of any column in terms of percentage\n",
    "def freq_table(dataset,index):\n",
    "    content_freq={}\n",
    "    for row in dataset:\n",
    "        value=row[index]\n",
    "        if value in content_freq:\n",
    "            content_freq[value]+=1\n",
    "        else:\n",
    "            content_freq[value]=1\n",
    "    \n",
    "    for key in content_freq:\n",
    "        content_freq[key]=(content_freq[key]/len(dataset))*100\n",
    "        \n",
    "    return content_freq\n",
    "            \n",
    "google_freq_table_1=freq_table(google_data_free,1)\n",
    "google_freq_table_2=freq_table(google_data_free,9)\n",
    "ios_freq_table=freq_table(ios_data_free,12)\n",
    "print(google_freq_table_1)\n",
    "print('\\n')\n",
    "print(google_freq_table_2)\n",
    "print('\\n')\n",
    "print(ios_freq_table)\n"
   ]
  },
  {
   "cell_type": "code",
   "execution_count": 56,
   "metadata": {},
   "outputs": [
    {
     "name": "stdout",
     "output_type": "stream",
     "text": [
      "[(18.907942238267147, 'FAMILY'), (9.724729241877256, 'GAME'), (8.461191335740072, 'TOOLS'), (4.591606498194946, 'BUSINESS'), (3.9034296028880866, 'LIFESTYLE'), (3.892148014440433, 'PRODUCTIVITY'), (3.7003610108303246, 'FINANCE'), (3.531137184115524, 'MEDICAL'), (3.395758122743682, 'SPORTS'), (3.3167870036101084, 'PERSONALIZATION'), (3.2378158844765346, 'COMMUNICATION'), (3.0798736462093865, 'HEALTH_AND_FITNESS'), (2.944494584837545, 'PHOTOGRAPHY'), (2.7978339350180503, 'NEWS_AND_MAGAZINES'), (2.6624548736462095, 'SOCIAL'), (2.33528880866426, 'TRAVEL_AND_LOCAL'), (2.2450361010830324, 'SHOPPING'), (2.1435018050541514, 'BOOKS_AND_REFERENCE'), (1.861462093862816, 'DATING'), (1.7937725631768955, 'VIDEO_PLAYERS'), (1.3989169675090252, 'MAPS_AND_NAVIGATION'), (1.2409747292418771, 'FOOD_AND_DRINK'), (1.1620036101083033, 'EDUCATION'), (0.9589350180505415, 'ENTERTAINMENT'), (0.9363718411552346, 'LIBRARIES_AND_DEMO'), (0.9250902527075812, 'AUTO_AND_VEHICLES'), (0.8235559566787004, 'HOUSE_AND_HOME'), (0.8009927797833934, 'WEATHER'), (0.7107400722021661, 'EVENTS'), (0.6543321299638989, 'PARENTING'), (0.6430505415162455, 'ART_AND_DESIGN'), (0.6204873646209386, 'COMICS'), (0.5979241877256317, 'BEAUTY')]\n",
      "\n",
      "\n",
      "[(8.449909747292418, 'Tools'), (6.069494584837545, 'Entertainment'), (5.347472924187725, 'Education'), (4.591606498194946, 'Business'), (3.892148014440433, 'Productivity'), (3.892148014440433, 'Lifestyle'), (3.7003610108303246, 'Finance'), (3.531137184115524, 'Medical'), (3.463447653429603, 'Sports'), (3.3167870036101084, 'Personalization'), (3.2378158844765346, 'Communication'), (3.1024368231046933, 'Action'), (3.0798736462093865, 'Health & Fitness'), (2.944494584837545, 'Photography'), (2.7978339350180503, 'News & Magazines'), (2.6624548736462095, 'Social'), (2.3240072202166067, 'Travel & Local'), (2.2450361010830324, 'Shopping'), (2.1435018050541514, 'Books & Reference'), (2.0419675090252705, 'Simulation'), (1.861462093862816, 'Dating'), (1.8501805054151623, 'Arcade'), (1.7712093862815883, 'Video Players & Editors'), (1.7599277978339352, 'Casual'), (1.3989169675090252, 'Maps & Navigation'), (1.2409747292418771, 'Food & Drink'), (1.128158844765343, 'Puzzle'), (0.9927797833935018, 'Racing'), (0.9363718411552346, 'Role Playing'), (0.9363718411552346, 'Libraries & Demo'), (0.9250902527075812, 'Auto & Vehicles'), (0.9138086642599278, 'Strategy'), (0.8235559566787004, 'House & Home'), (0.8009927797833934, 'Weather'), (0.7107400722021661, 'Events'), (0.6768953068592057, 'Adventure'), (0.6092057761732852, 'Comics'), (0.5979241877256317, 'Beauty'), (0.5979241877256317, 'Art & Design'), (0.4963898916967509, 'Parenting'), (0.45126353790613716, 'Card'), (0.42870036101083037, 'Casino'), (0.41741877256317694, 'Trivia'), (0.39485559566787, 'Educational;Education'), (0.3835740072202166, 'Board'), (0.3722924187725632, 'Educational'), (0.33844765342960287, 'Education;Education'), (0.2594765342960289, 'Word'), (0.236913357400722, 'Casual;Pretend Play'), (0.2030685920577617, 'Music'), (0.16922382671480143, 'Racing;Action & Adventure'), (0.16922382671480143, 'Puzzle;Brain Games'), (0.16922382671480143, 'Entertainment;Music & Video'), (0.13537906137184114, 'Casual;Brain Games'), (0.13537906137184114, 'Casual;Action & Adventure'), (0.12409747292418773, 'Arcade;Action & Adventure'), (0.10153429602888085, 'Action;Action & Adventure'), (0.09025270758122744, 'Educational;Pretend Play'), (0.078971119133574, 'Simulation;Action & Adventure'), (0.078971119133574, 'Parenting;Education'), (0.078971119133574, 'Entertainment;Brain Games'), (0.078971119133574, 'Board;Brain Games'), (0.06768953068592057, 'Parenting;Music & Video'), (0.06768953068592057, 'Educational;Brain Games'), (0.06768953068592057, 'Casual;Creativity'), (0.06768953068592057, 'Art & Design;Creativity'), (0.056407942238267145, 'Education;Pretend Play'), (0.04512635379061372, 'Role Playing;Pretend Play'), (0.04512635379061372, 'Education;Creativity'), (0.033844765342960284, 'Role Playing;Action & Adventure'), (0.033844765342960284, 'Puzzle;Action & Adventure'), (0.033844765342960284, 'Entertainment;Creativity'), (0.033844765342960284, 'Entertainment;Action & Adventure'), (0.033844765342960284, 'Educational;Creativity'), (0.033844765342960284, 'Educational;Action & Adventure'), (0.033844765342960284, 'Education;Music & Video'), (0.033844765342960284, 'Education;Brain Games'), (0.033844765342960284, 'Education;Action & Adventure'), (0.033844765342960284, 'Adventure;Action & Adventure'), (0.02256317689530686, 'Video Players & Editors;Music & Video'), (0.02256317689530686, 'Sports;Action & Adventure'), (0.02256317689530686, 'Simulation;Pretend Play'), (0.02256317689530686, 'Puzzle;Creativity'), (0.02256317689530686, 'Music;Music & Video'), (0.02256317689530686, 'Entertainment;Pretend Play'), (0.02256317689530686, 'Casual;Education'), (0.02256317689530686, 'Board;Action & Adventure'), (0.01128158844765343, 'Video Players & Editors;Creativity'), (0.01128158844765343, 'Trivia;Education'), (0.01128158844765343, 'Travel & Local;Action & Adventure'), (0.01128158844765343, 'Tools;Education'), (0.01128158844765343, 'Strategy;Education'), (0.01128158844765343, 'Strategy;Creativity'), (0.01128158844765343, 'Strategy;Action & Adventure'), (0.01128158844765343, 'Simulation;Education'), (0.01128158844765343, 'Role Playing;Brain Games'), (0.01128158844765343, 'Racing;Pretend Play'), (0.01128158844765343, 'Puzzle;Education'), (0.01128158844765343, 'Parenting;Brain Games'), (0.01128158844765343, 'Music & Audio;Music & Video'), (0.01128158844765343, 'Lifestyle;Pretend Play'), (0.01128158844765343, 'Lifestyle;Education'), (0.01128158844765343, 'Health & Fitness;Education'), (0.01128158844765343, 'Health & Fitness;Action & Adventure'), (0.01128158844765343, 'Entertainment;Education'), (0.01128158844765343, 'Communication;Creativity'), (0.01128158844765343, 'Comics;Creativity'), (0.01128158844765343, 'Casual;Music & Video'), (0.01128158844765343, 'Card;Action & Adventure'), (0.01128158844765343, 'Books & Reference;Education'), (0.01128158844765343, 'Art & Design;Pretend Play'), (0.01128158844765343, 'Art & Design;Action & Adventure'), (0.01128158844765343, 'Arcade;Pretend Play'), (0.01128158844765343, 'Adventure;Education')]\n",
      "\n",
      "\n",
      "[(58.16263190564867, 'Games'), (7.883302296710118, 'Entertainment'), (4.9658597144630665, 'Photo & Video'), (3.662321539416512, 'Education'), (3.2898820608317814, 'Social Networking'), (2.60707635009311, 'Shopping'), (2.5139664804469275, 'Utilities'), (2.1415270018621975, 'Sports'), (2.0484171322160147, 'Music'), (2.0173805090006205, 'Health & Fitness'), (1.7380509000620732, 'Productivity'), (1.5828677839851024, 'Lifestyle'), (1.3345747982619491, 'News'), (1.2414649286157666, 'Travel'), (1.1173184357541899, 'Finance'), (0.8690254500310366, 'Weather'), (0.8069522036002483, 'Food & Drink'), (0.5586592178770949, 'Reference'), (0.5276225946617008, 'Business'), (0.4345127250155183, 'Book'), (0.186219739292365, 'Navigation'), (0.186219739292365, 'Medical'), (0.12414649286157665, 'Catalogs')]\n"
     ]
    }
   ],
   "source": [
    "# function that will take a dataset and index and convert it into a list of tuples that will be sorted decreasingly\n",
    "\n",
    "def display_table(dataset,index):\n",
    "    table=freq_table(dataset,index)\n",
    "    table_display=[]\n",
    "    for key in table:\n",
    "        value_tuple=(table[key],key)\n",
    "        table_display.append(value_tuple)\n",
    "    \n",
    "    table_sorted=sorted(table_display,reverse=True)\n",
    "    \n",
    "    return table_sorted\n",
    "    \n",
    "google_freq_sorted_1=display_table(google_data_free,1)\n",
    "google_freq_sorted_2=display_table(google_data_free,9)\n",
    "ios_freq_sorted=display_table(ios_data_free,12)\n",
    "\n",
    "print(google_freq_sorted_1)\n",
    "print('\\n')\n",
    "print(google_freq_sorted_2)\n",
    "print('\\n')\n",
    "print(ios_freq_sorted)"
   ]
  },
  {
   "cell_type": "markdown",
   "metadata": {},
   "source": [
    "## Recomending App for App Store based on the average user ratings specific to a `Genre`\n",
    "\n",
    "- We will make a function that will print the average user ratings of a specific `Genre`\n",
    "- For this will use our `ios_freq_table` "
   ]
  },
  {
   "cell_type": "code",
   "execution_count": 78,
   "metadata": {},
   "outputs": [
    {
     "name": "stdout",
     "output_type": "stream",
     "text": [
      "Productivity : 21028.410714285714\n",
      "Weather : 52279.892857142855\n",
      "Shopping : 26919.690476190477\n",
      "Reference : 74942.11111111111\n",
      "Finance : 31467.944444444445\n",
      "Music : 57326.530303030304\n",
      "Utilities : 18684.456790123455\n",
      "Travel : 28243.8\n",
      "Social Networking : 71548.34905660378\n",
      "Sports : 23008.898550724636\n",
      "Health & Fitness : 23298.015384615384\n",
      "Games : 22788.6696905016\n",
      "Food & Drink : 33333.92307692308\n",
      "News : 21248.023255813954\n",
      "Book : 39758.5\n",
      "Photo & Video : 28441.54375\n",
      "Entertainment : 14029.830708661417\n",
      "Business : 7491.117647058823\n",
      "Lifestyle : 16485.764705882353\n",
      "Education : 7003.983050847458\n",
      "Navigation : 86090.33333333333\n",
      "Medical : 612.0\n",
      "Catalogs : 4004.0\n"
     ]
    }
   ],
   "source": [
    "# function for printing average installs of a specific genre in App Store\n",
    "\n",
    "for genre in ios_freq_table:\n",
    "    total = 0\n",
    "    len_genre = 0\n",
    "    for app in ios_data_free:\n",
    "        genre_app = app[-5]\n",
    "        if genre_app == genre:            \n",
    "            n_ratings = float(app[6])\n",
    "            total += n_ratings\n",
    "            len_genre += 1\n",
    "    avg_n_ratings = total / len_genre\n",
    "    print(genre, ':', avg_n_ratings)\n",
    "    \n",
    "# from results i would like to suggest Social Networking and Navigation"
   ]
  },
  {
   "cell_type": "markdown",
   "metadata": {},
   "source": [
    "## Correcting the `Installs` column in Google Dataset for getting average number of installs specific to a `Genre`\n",
    "\n",
    "- We will remove the `,` and `+` from the string in the `Installs` column\n",
    "- After that we will convert the `string` to `int`\n",
    "- We will be using the `freq_table()` function for getting the `Genres` in the `Category` column of Google Dataset"
   ]
  },
  {
   "cell_type": "code",
   "execution_count": 80,
   "metadata": {},
   "outputs": [
    {
     "name": "stdout",
     "output_type": "stream",
     "text": [
      "ART_AND_DESIGN : 1.7543859649122806\n",
      "AUTO_AND_VEHICLES : 1.2195121951219512\n",
      "BEAUTY : 1886.7924528301887\n",
      "BOOKS_AND_REFERENCE : 5.2631578947368425\n",
      "BUSINESS : 0.02457002457002457\n",
      "COMICS : 181.8181818181818\n",
      "COMMUNICATION : 174.21602787456445\n",
      "DATING : 606.060606060606\n",
      "EDUCATION : 9708.73786407767\n",
      "ENTERTAINMENT : 117647.05882352941\n",
      "EVENTS : 7.936507936507937\n",
      "FINANCE : 30.48780487804878\n",
      "FOOD_AND_DRINK : 0.09090909090909091\n",
      "HEALTH_AND_FITNESS : 366.3003663003663\n",
      "HOUSE_AND_HOME : 1.36986301369863\n",
      "LIBRARIES_AND_DEMO : 120481.92771084337\n",
      "LIFESTYLE : 28901.73410404624\n",
      "GAME : 116.0092807424594\n",
      "FAMILY : 0.059665871121718374\n",
      "MEDICAL : 3.194888178913738\n",
      "SOCIAL : 21186.4406779661\n",
      "SHOPPING : 5025.125628140703\n",
      "PHOTOGRAPHY : 38314.17624521073\n",
      "SPORTS : 0.0033222591362126247\n",
      "TRAVEL_AND_LOCAL : 4.830917874396135\n",
      "TOOLS : 133.33333333333334\n",
      "PERSONALIZATION : 1.7006802721088434\n",
      "PRODUCTIVITY : 0.028985507246376812\n",
      "PARENTING : 17.24137931034483\n",
      "WEATHER : 1408.4507042253522\n",
      "VIDEO_PLAYERS : 0.6289308176100629\n",
      "NEWS_AND_MAGAZINES : 403.2258064516129\n",
      "MAPS_AND_NAVIGATION : 40.32258064516129\n"
     ]
    }
   ],
   "source": [
    "# we will use google_freq_table\n",
    "google_freq_table=freq_table(google_data_free,1)\n",
    "for category in google_freq_table:\n",
    "    total=0\n",
    "    len_category=0\n",
    "    for row in google_data_free:\n",
    "        genre=row[1]\n",
    "        if genre == category:\n",
    "            string=row[5]\n",
    "            string=string.replace(',','')\n",
    "            string=string.replace('+','')\n",
    "            total=+float(string)\n",
    "            len_category+=1\n",
    "    avg_installs=total/len_category\n",
    "    print(category,':',avg_installs)\n",
    "    \n",
    "# from results i would like to suggest Libraries_and_demo and Entertainment"
   ]
  },
  {
   "cell_type": "markdown",
   "metadata": {},
   "source": [
    "## Analyzing Non-Free Apps on App Store\n",
    "- Since the number of non-free apps in our app store dataset are significant it is good to also do their analysis\n",
    "- We will first find the number of non-free apps and store them in a seperate list"
   ]
  },
  {
   "cell_type": "code",
   "execution_count": 82,
   "metadata": {},
   "outputs": [
    {
     "name": "stdout",
     "output_type": "stream",
     "text": [
      "2961\n",
      "[['1', '281656475', 'PAC-MAN Premium', '100788224', 'USD', '3.99', '21292', '26', '4', '4.5', '6.3.5', '4+', 'Games', '38', '5', '10', '1'], ['6', '283619399', 'Shanghai Mahjong', '10485713', 'USD', '0.99', '8253', '5516', '4', '4', '1.8', '4+', 'Games', '47', '5', '1', '1'], ['9', '284666222', 'PCalc - The Best Calculator', '49250304', 'USD', '9.99', '1117', '4', '4.5', '5', '3.6.6', '4+', 'Utilities', '37', '5', '1', '1'], ['10', '284736660', 'Ms. PAC-MAN', '70023168', 'USD', '3.99', '7885', '40', '4', '4', '4.0.4', '4+', 'Games', '38', '0', '10', '1']]\n"
     ]
    }
   ],
   "source": [
    "ios_data_non_free=[]\n",
    "for row in ios_data_clean:\n",
    "    price=float(row[5])\n",
    "    if price != 0.0:\n",
    "        ios_data_non_free.append(row)\n",
    "        \n",
    "print(len(ios_data_non_free))\n",
    "print(ios_data_non_free[0:4])"
   ]
  },
  {
   "cell_type": "markdown",
   "metadata": {},
   "source": [
    "## Finding out average price of the paid apps on App Store\n",
    "\n",
    "- We will store the price of all the paid apps in a list `paid_apps`\n",
    "- We will sum all the values in this list and then find out the average"
   ]
  },
  {
   "cell_type": "code",
   "execution_count": 84,
   "metadata": {},
   "outputs": [
    {
     "name": "stdout",
     "output_type": "stream",
     "text": [
      "2961\n",
      "3.9329246876053574\n"
     ]
    }
   ],
   "source": [
    "paid_apps=[]\n",
    "\n",
    "for row in ios_data_non_free:\n",
    "    price=float(row[5])\n",
    "    paid_apps.append(price)\n",
    "    \n",
    "print(len(paid_apps))\n",
    "print(sum(paid_apps)/len(paid_apps))\n",
    "\n",
    "# form the results we see that average price of an app that is not free on App Store is $3.933"
   ]
  },
  {
   "cell_type": "markdown",
   "metadata": {},
   "source": [
    "## Classifying apps price in different intervals\n",
    " \n",
    "- For doing so we will first find the range of the prices\n",
    "- After that we will divide our range in different price intervals\n",
    "- We than find the number of apps in each price range"
   ]
  },
  {
   "cell_type": "code",
   "execution_count": 85,
   "metadata": {},
   "outputs": [
    {
     "name": "stdout",
     "output_type": "stream",
     "text": [
      "299.99\n",
      "0.99\n"
     ]
    }
   ],
   "source": [
    "print(max(paid_apps))\n",
    "print(min(paid_apps))\n",
    "\n",
    "# Least expensive is $0.99 and most expensive is $299.99"
   ]
  },
  {
   "cell_type": "code",
   "execution_count": 86,
   "metadata": {},
   "outputs": [
    {
     "name": "stdout",
     "output_type": "stream",
     "text": [
      "{'0-10$': 2883, '10-50$': 71, '50-100$': 5, '100-150$': 0, '150$+': 2}\n"
     ]
    }
   ],
   "source": [
    "paid_apps_table={'0-10$':0,'10-50$':0,'50-100$':0,'100-150$':0,'150$+':0}\n",
    "\n",
    "for price in paid_apps:\n",
    "    if 0 < price <= 10:\n",
    "        paid_apps_table['0-10$']+=1\n",
    "    elif 10 < price <= 50:\n",
    "        paid_apps_table['10-50$']+=1\n",
    "    elif 50 < price <= 100:\n",
    "        paid_apps_table['50-100$']+=1\n",
    "    elif 100 < price <= 150:\n",
    "        paid_apps_table['100-150$']+=1\n",
    "    elif price > 150:\n",
    "        paid_apps_table['150$+']+=1\n",
    "        \n",
    "print(paid_apps_table)"
   ]
  },
  {
   "cell_type": "code",
   "execution_count": 97,
   "metadata": {},
   "outputs": [
    {
     "data": {
      "text/plain": [
       "Text(0.5, 0, 'Price Distributions in ($) ')"
      ]
     },
     "execution_count": 97,
     "metadata": {},
     "output_type": "execute_result"
    },
    {
     "data": {
      "image/png": "[encoded data removed]",
      "text/plain": [
       "<Figure size 1080x1080 with 1 Axes>"
      ]
     },
     "metadata": {},
     "output_type": "display_data"
    }
   ],
   "source": [
    "from matplotlib import pyplot as plt\n",
    "\n",
    "plt.style.use('fivethirtyeight')\n",
    "plt.figure(figsize=(15,15))\n",
    "plt.subplot(2,1,1)\n",
    "plt.hist(paid_apps,log=True)\n",
    "plt.title('Price distribution of apps (Log scale)')\n",
    "plt.ylabel(\"Frequency Log scale\")\n",
    "plt.xlabel(\"Price Distributions in ($) \")\n",
    "\n",
    "# Most of the apps are in the price range 0-40$"
   ]
  },
  {
   "cell_type": "markdown",
   "metadata": {},
   "source": [
    "## Analyzing number of installs in each price range\n",
    "\n",
    "- For doing so we will make a table of price interval and the number of installs"
   ]
  },
  {
   "cell_type": "code",
   "execution_count": 102,
   "metadata": {},
   "outputs": [
    {
     "name": "stdout",
     "output_type": "stream",
     "text": [
      "{'0-10$': 12610024, '10-50$': 67836, '50-100$': 1421, '100-150$': 0, '150$+': 814}\n"
     ]
    }
   ],
   "source": [
    "paid_apps_table_installs={'0-10$':0,'10-50$':0,'50-100$':0,'100-150$':0,'150$+':0}\n",
    "\n",
    "for row in ios_data_non_free:\n",
    "    price=float(row[5])\n",
    "    if 0 < price <= 10:\n",
    "        paid_apps_table_installs['0-10$']+=int(row[6])\n",
    "    elif 10 < price <= 50:\n",
    "        paid_apps_table_installs['10-50$']+=int(row[6])\n",
    "    elif 50 < price <= 100:\n",
    "        paid_apps_table_installs['50-100$']+=int(row[6])\n",
    "    elif 100 < price <= 150:\n",
    "        paid_apps_table_installs['100-150$']+=int(row[6])\n",
    "    elif price > 150:\n",
    "        paid_apps_table_installs['150$+']+=int(row[6])\n",
    "        \n",
    "print(paid_apps_table_installs)\n",
    "        \n",
    "# It is obvious from the result the most of the apps are in the interval 0-10$ \n",
    "# It is profitable to make an app that lies in this range\n",
    "    \n",
    "    "
   ]
  }
 ],
 "metadata": {
  "kernelspec": {
   "display_name": "Python 3",
   "language": "python",
   "name": "python3"
  },
  "language_info": {
   "codemirror_mode": {
    "name": "ipython",
    "version": 3
   },
   "file_extension": ".py",
   "mimetype": "text/x-python",
   "name": "python",
   "nbconvert_exporter": "python",
   "pygments_lexer": "ipython3",
   "version": "3.7.3"
  }
 },
 "nbformat": 4,
 "nbformat_minor": 2
}
